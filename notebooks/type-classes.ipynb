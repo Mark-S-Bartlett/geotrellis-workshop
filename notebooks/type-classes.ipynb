{
 "cells": [
  {
   "cell_type": "markdown",
   "metadata": {},
   "source": [
    "# Polymorphism through Type Classes\n",
    "\n",
    "Lets say we're developing a pretty-print library for ourselves and others to use. What does it look like in scala?"
   ]
  },
  {
   "cell_type": "code",
   "execution_count": null,
   "metadata": {},
   "outputs": [],
   "source": [
    "class MyClass(value: Double) {\n",
    "    def +(other: MyClass): MyClass = new MyClass(value + other.value)\n",
    "    \n",
    "    def isPositive: Boolean = value > 0\n",
    "}"
   ]
  },
  {
   "cell_type": "code",
   "execution_count": null,
   "metadata": {},
   "outputs": [],
   "source": [
    "val mc = new MyClass(42)"
   ]
  },
  {
   "cell_type": "code",
   "execution_count": null,
   "metadata": {},
   "outputs": [],
   "source": [
    "val mc2 = mc + new MyClass(667)"
   ]
  },
  {
   "cell_type": "code",
   "execution_count": null,
   "metadata": {},
   "outputs": [],
   "source": [
    "mc2.prettyPrint"
   ]
  },
  {
   "cell_type": "markdown",
   "metadata": {},
   "source": [
    "## Polymorphism through Inheritance\n",
    "\n",
    "Ultimatly we want to use `MyClass` type in a polymorphic function, whithout knowing the exact type at compile time but knowing that it supports some concept of pretty printing. This implies an existence of interface."
   ]
  },
  {
   "cell_type": "code",
   "execution_count": null,
   "metadata": {},
   "outputs": [],
   "source": [
    "trait PrettyPrintable {\n",
    "    def prettyPrint: String\n",
    "}"
   ]
  },
  {
   "cell_type": "code",
   "execution_count": null,
   "metadata": {},
   "outputs": [],
   "source": [
    "def workWithIt[T <: PrettyPrintable](it: T): Unit = {\n",
    "    it.prettyPrint\n",
    "    // and do other work as well\n",
    "}"
   ]
  },
  {
   "cell_type": "code",
   "execution_count": null,
   "metadata": {},
   "outputs": [],
   "source": [
    "workWithIt(mc)"
   ]
  },
  {
   "cell_type": "markdown",
   "metadata": {},
   "source": [
    "## Polymorphism through Elbow Grease\n",
    "\n",
    "This is an intermidiate step. Let's say we're not willing to either extend our interface or wrap our instance."
   ]
  },
  {
   "cell_type": "code",
   "execution_count": null,
   "metadata": {},
   "outputs": [],
   "source": [
    "def workItHarder[T](it: T): Unit = {\n",
    "    it.prettyPrint\n",
    "}"
   ]
  },
  {
   "cell_type": "markdown",
   "metadata": {},
   "source": [
    "## Polymorphism through Type Class\n",
    "\n",
    "\n",
    "We can extend the elbow-grease approach into something that looks nice using Scala language features, implicits."
   ]
  },
  {
   "cell_type": "code",
   "execution_count": null,
   "metadata": {},
   "outputs": [],
   "source": [
    "def workItBetter[T](it: T): Unit = {\n",
    "    it.prettyPrint\n",
    "}"
   ]
  },
  {
   "cell_type": "markdown",
   "metadata": {},
   "source": [
    "## Type Class Syntax\n",
    "\n",
    "One final step is to make the syntax nice"
   ]
  },
  {
   "cell_type": "code",
   "execution_count": null,
   "metadata": {},
   "outputs": [],
   "source": []
  }
 ],
 "metadata": {
  "kernelspec": {
   "display_name": "Scala 2.12",
   "language": "scala",
   "name": "scala212"
  },
  "language_info": {
   "codemirror_mode": "text/x-scala",
   "file_extension": ".sc",
   "mimetype": "text/x-scala",
   "name": "scala",
   "nbconvert_exporter": "script",
   "version": "2.12.12"
  }
 },
 "nbformat": 4,
 "nbformat_minor": 4
}
