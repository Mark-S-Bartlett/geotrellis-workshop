{
 "metadata": {
  "language_info": {
   "codemirror_mode": {
    "name": "ipython",
    "version": 3
   },
   "file_extension": ".py",
   "mimetype": "text/x-python",
   "name": "python",
   "nbconvert_exporter": "python",
   "pygments_lexer": "ipython3",
   "version": "3.7.8-final"
  },
  "orig_nbformat": 2,
  "kernelspec": {
   "name": "scala212",
   "display_name": "Scala 2.12"
  }
 },
 "nbformat": 4,
 "nbformat_minor": 2,
 "cells": [
  {
   "cell_type": "code",
   "execution_count": 1,
   "metadata": {
    "tags": []
   },
   "outputs": [
    {
     "output_type": "execute_result",
     "data": {
      "text/plain": [
       "\u001b[32mimport \u001b[39m\u001b[36m$ivy.$                                  \n",
       "\u001b[39m\n",
       "\u001b[32mimport \u001b[39m\u001b[36m$ivy.$                                                    \u001b[39m"
      ]
     },
     "metadata": {},
     "execution_count": 1
    }
   ],
   "source": [
    "import $ivy.`org.apache.spark::spark-sql:2.4.4`\n",
    "import $ivy.`org.locationtech.geotrellis::geotrellis-spark:3.5.0`"
   ]
  },
  {
   "cell_type": "code",
   "execution_count": 2,
   "metadata": {},
   "outputs": [
    {
     "output_type": "execute_result",
     "data": {
      "text/plain": [
       "\u001b[32mimport \u001b[39m\u001b[36morg.apache.log4j.{Level, Logger}\n",
       "\u001b[39m"
      ]
     },
     "metadata": {},
     "execution_count": 2
    }
   ],
   "source": [
    "import org.apache.log4j.{Level, Logger}\n",
    "Logger.getLogger(\"org\").setLevel(Level.OFF)"
   ]
  },
  {
   "cell_type": "code",
   "execution_count": 3,
   "metadata": {},
   "outputs": [
    {
     "output_type": "execute_result",
     "data": {
      "text/plain": [
       "\u001b[32mimport \u001b[39m\u001b[36mgeotrellis.layer._\n",
       "\u001b[39m\n",
       "\u001b[32mimport \u001b[39m\u001b[36mgeotrellis.raster.geotiff.GeoTiffRasterSource\n",
       "\u001b[39m\n",
       "\u001b[32mimport \u001b[39m\u001b[36mgeotrellis.spark._\n",
       "\u001b[39m\n",
       "\u001b[32mimport \u001b[39m\u001b[36morg.apache.spark._\u001b[39m"
      ]
     },
     "metadata": {},
     "execution_count": 3
    }
   ],
   "source": [
    "import geotrellis.layer._\n",
    "import geotrellis.raster.geotiff.GeoTiffRasterSource\n",
    "import geotrellis.spark._\n",
    "import org.apache.spark._"
   ]
  },
  {
   "cell_type": "code",
   "execution_count": 4,
   "metadata": {},
   "outputs": [
    {
     "output_type": "stream",
     "name": "stdout",
     "text": [
      "Loading spark-stubs\n",
      "Getting spark JARs\n",
      "Creating SparkSession\n",
      "Using Spark's default log4j profile: org/apache/spark/log4j-defaults.properties\n"
     ]
    },
    {
     "output_type": "display_data",
     "data": {
      "text/html": "<a target=\"_blank\" href=\"http://942678aa68a2:4040\">Spark UI</a>"
     },
     "metadata": {}
    },
    {
     "output_type": "execute_result",
     "data": {
      "text/plain": [
       "\u001b[32mimport \u001b[39m\u001b[36morg.apache.spark.sql._\n",
       "\n",
       "\u001b[39m\n",
       "\u001b[36mspark\u001b[39m: \u001b[32mSparkSession\u001b[39m = org.apache.spark.sql.SparkSession@26808354"
      ]
     },
     "metadata": {},
     "execution_count": 4
    }
   ],
   "source": [
    "import org.apache.spark.sql._\n",
    "\n",
    "val spark = {\n",
    "  NotebookSparkSession.builder()\n",
    "    .master(\"local[*]\")\n",
    "    .getOrCreate()\n",
    "}"
   ]
  },
  {
   "cell_type": "code",
   "execution_count": 5,
   "metadata": {},
   "outputs": [
    {
     "output_type": "execute_result",
     "data": {
      "text/plain": [
       "\u001b[36msparkContext\u001b[39m: \u001b[32mSparkContext\u001b[39m = org.apache.spark.SparkContext@774261b6"
      ]
     },
     "metadata": {},
     "execution_count": 5
    }
   ],
   "source": [
    "implicit val sparkContext = spark.sparkContext"
   ]
  },
  {
   "cell_type": "code",
   "execution_count": 8,
   "metadata": {},
   "outputs": [
    {
     "output_type": "display_data",
     "data": {
      "text/html": "<script>\nvar comm = Jupyter.notebook.kernel.comm_manager.new_comm('cancel-stage-e0e97bf5-72af-4fb5-b301-e155581877f6', {});\n\nfunction cancelStage(stageId) {\n  console.log('Cancelling stage ' + stageId);\n  comm.send({ 'stageId': stageId });\n}\n</script>\n          "
     },
     "metadata": {}
    },
    {
     "output_type": "display_data",
     "data": {
      "text/html": "<div>\n  <span style=\"float: left; word-wrap: normal; white-space: nowrap; text-align: center\">count at RasterSourceRDD.scala:299</span>\n  <span style=\"float: right; word-wrap: normal; white-space: nowrap; text-align: center\"><a href=\"#\" onclick=\"cancelStage(0);\">(kill)</a></span>\n</div>\n<br>\n"
     },
     "metadata": {}
    },
    {
     "output_type": "display_data",
     "data": {
      "text/html": "<div class=\"progress\">\n  <div class=\"progress-bar bg-success\" role=\"progressbar\" style=\"width: 0%; word-wrap: normal; white-space: nowrap; text-align: center; color: white\" aria-valuenow=\"0\" aria-valuemin=\"0\" aria-valuemax=\"100\">\n    0 / 4\n  </div>\n</div>\n"
     },
     "metadata": {}
    },
    {
     "output_type": "execute_result",
     "data": {
      "text/plain": [
       "\u001b[36muri\u001b[39m: \u001b[32mString\u001b[39m = \u001b[32m\"https://geotrellis-demo.s3.amazonaws.com/cogs/harrisburg-pa/elevation.tif\"\u001b[39m\n",
       "\u001b[36msource\u001b[39m: \u001b[32mGeoTiffRasterSource\u001b[39m = GeoTiffRasterSource(https://geotrellis-demo.s3.amazonaws.com/cogs/harrisburg-pa/elevation.tif)\n",
       "\u001b[36msummary\u001b[39m: \u001b[32mRasterSummary\u001b[39m[\u001b[32mUnit\u001b[39m] = \u001b[33mRasterSummary\u001b[39m(\n",
       "  EPSG:26918,\n",
       "  \u001b[33mUByteUserDefinedNoDataCellType\u001b[39m(\u001b[32m-1\u001b[39m),\n",
       "  \u001b[33mCellSize\u001b[39m(\u001b[32m30.0\u001b[39m, \u001b[32m30.0\u001b[39m),\n",
       "  \u001b[33mExtent\u001b[39m(\u001b[32m210209.2154\u001b[39m, \u001b[32m4398599.0319\u001b[39m, \u001b[32m341969.2154\u001b[39m, \u001b[32m4524479.0319\u001b[39m),\n",
       "  \u001b[32m18428832L\u001b[39m,\n",
       "  \u001b[32m1L\u001b[39m,\n",
       "  \u001b[33mKeyBounds\u001b[39m((), ())\n",
       ")\n",
       "\u001b[36mlayout\u001b[39m: \u001b[32mLayoutDefinition\u001b[39m = \u001b[33mLayoutDefinition\u001b[39m(\n",
       "  \u001b[33mExtent\u001b[39m(\u001b[32m210209.2154\u001b[39m, \u001b[32m4393919.0319\u001b[39m, \u001b[32m348449.2154\u001b[39m, \u001b[32m4524479.0319\u001b[39m),\n",
       "  \u001b[33mTileLayout\u001b[39m(\u001b[32m18\u001b[39m, \u001b[32m17\u001b[39m, \u001b[32m256\u001b[39m, \u001b[32m256\u001b[39m)\n",
       ")\n",
       "\u001b[36mlayer\u001b[39m: \u001b[32mMultibandTileLayerRDD\u001b[39m[\u001b[32mSpatialKey\u001b[39m] = ContextRDD[3] at RDD at ContextRDD.scala:32"
      ]
     },
     "metadata": {},
     "execution_count": 8
    }
   ],
   "source": [
    "val uri = \"https://geotrellis-demo.s3.amazonaws.com/cogs/harrisburg-pa/elevation.tif\"\n",
    "val source = GeoTiffRasterSource(uri)\n",
    "\n",
    "val summary = RasterSummary.fromSeq(List(source))\n",
    "val layout = summary.layoutDefinition(FloatingLayoutScheme(256))\n",
    "\n",
    "val layer = RasterSourceRDD.spatial(source, layout)"
   ]
  },
  {
   "cell_type": "code",
   "execution_count": null,
   "metadata": {},
   "outputs": [],
   "source": []
  }
 ]
}