{
 "cells": [
  {
   "cell_type": "code",
   "execution_count": null,
   "metadata": {},
   "outputs": [],
   "source": [
    "import $ivy.`org.locationtech.geotrellis::geotrellis-raster:3.5.0`\n",
    "import $ivy.`org.slf4j:slf4j-simple:1.7.30`"
   ]
  },
  {
   "cell_type": "code",
   "execution_count": null,
   "metadata": {},
   "outputs": [],
   "source": [
    "import geotrellis.vector._\n",
    "import geotrellis.raster._\n",
    "import geotrellis.raster.geotiff.GeoTiffRasterSource"
   ]
  },
  {
   "cell_type": "code",
   "execution_count": null,
   "metadata": {
    "scrolled": true
   },
   "outputs": [],
   "source": [
    "val uri = \"https://geotrellis-demo.s3.amazonaws.com/cogs/harrisburg-pa/elevation.tif\"\n",
    "val rs = GeoTiffRasterSource(uri)"
   ]
  },
  {
   "cell_type": "code",
   "execution_count": null,
   "metadata": {},
   "outputs": [],
   "source": [
    "val raster = rs.read().get"
   ]
  },
  {
   "cell_type": "code",
   "execution_count": null,
   "metadata": {},
   "outputs": [],
   "source": [
    "import geotrellis.proj4.LatLng\n",
    "\n",
    "// Carlisle, PA\n",
    " val geom = Polygon(\n",
    "   LineString(\n",
    "     List(\n",
    "       (-77.25414276123047, 40.168642443446366),\n",
    "       (-77.1188735961914, 40.168642443446366),\n",
    "       (-77.1188735961914, 40.24939807617368),\n",
    "       (-77.25414276123047, 40.24939807617368),\n",
    "       (-77.25414276123047, 40.168642443446366)\n",
    "     )\n",
    "   )\n",
    " )\n",
    " val geomInRsCrs = geom.reproject(LatLng, rs.crs)"
   ]
  },
  {
   "cell_type": "code",
   "execution_count": null,
   "metadata": {},
   "outputs": [],
   "source": [
    "val raster0 = Raster(raster.tile.band(0), rs.extent)"
   ]
  },
  {
   "cell_type": "code",
   "execution_count": null,
   "metadata": {},
   "outputs": [],
   "source": [
    "import geotrellis.raster.summary.polygonal._\n",
    "import geotrellis.raster.summary.polygonal.visitors.FastMapHistogramVisitor\n",
    "\n",
    "val result = raster0.polygonalSummary(geomInRsCrs, FastMapHistogramVisitor)"
   ]
  },
  {
   "cell_type": "code",
   "execution_count": null,
   "metadata": {},
   "outputs": [],
   "source": [
    "val histogram = result.toOption.get\n",
    "histogram.statistics"
   ]
  }
 ],
 "metadata": {
  "kernelspec": {
   "display_name": "Scala 2.12",
   "language": "scala",
   "name": "scala212"
  },
  "language_info": {
   "codemirror_mode": "text/x-scala",
   "file_extension": ".sc",
   "mimetype": "text/x-scala",
   "name": "scala",
   "nbconvert_exporter": "script",
   "version": "2.12.12"
  }
 },
 "nbformat": 4,
 "nbformat_minor": 2
}
