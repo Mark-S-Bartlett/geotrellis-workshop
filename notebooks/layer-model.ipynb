{
 "cells": [
  {
   "cell_type": "markdown",
   "metadata": {},
   "source": [
    "# Layer Model\n",
    "\n",
    "Follows [this section](https://geotrellis.github.io/geotrellis-workshop/docs/layer-model) of the docs."
   ]
  },
  {
   "cell_type": "code",
   "execution_count": null,
   "metadata": {},
   "outputs": [],
   "source": [
    "import $ivy.`org.locationtech.geotrellis::geotrellis-raster:3.5.0`\n",
    "import $ivy.`org.locationtech.geotrellis::geotrellis-layer:3.5.0`\n",
    "import $ivy.`org.slf4j:slf4j-simple:1.7.30`\n",
    "import geotrellis.raster._\n",
    "import geotrellis.vector._"
   ]
  },
  {
   "cell_type": "code",
   "execution_count": null,
   "metadata": {},
   "outputs": [],
   "source": [
    "import geotrellis.layer.{ LayoutDefinition, SpatialKey }\n",
    "import geotrellis.raster.GridExtent\n",
    "import geotrellis.vector.{ Extent, Point, LineString }\n",
    "\n",
    "val layout = LayoutDefinition(\n",
    "  grid = GridExtent(Extent(0, 0, 100, 100), cols = 100, rows = 100),\n",
    "  tileCols = 10, tileRows = 10\n",
    ")"
   ]
  },
  {
   "cell_type": "code",
   "execution_count": null,
   "metadata": {},
   "outputs": [],
   "source": [
    "SpatialKey(0, 9).extent(layout)\n",
    "SpatialKey(0, 0).extent(layout)"
   ]
  },
  {
   "cell_type": "code",
   "execution_count": null,
   "metadata": {},
   "outputs": [],
   "source": [
    "layout.mapTransform.pointToKey(Point(5, 5))"
   ]
  },
  {
   "cell_type": "code",
   "execution_count": null,
   "metadata": {},
   "outputs": [],
   "source": [
    "layout.mapTransform.pointToKey(Point(15, 15))"
   ]
  },
  {
   "cell_type": "code",
   "execution_count": null,
   "metadata": {},
   "outputs": [],
   "source": [
    "layout.mapTransform.keyToExtent(SpatialKey(1,8))"
   ]
  },
  {
   "cell_type": "code",
   "execution_count": null,
   "metadata": {},
   "outputs": [],
   "source": [
    "layout.mapTransform.extentToBounds(Extent(5, 5, 15, 15))"
   ]
  },
  {
   "cell_type": "code",
   "execution_count": null,
   "metadata": {},
   "outputs": [],
   "source": [
    "layout.mapTransform.keysForGeometry(LineString(Point(5,5), Point(25,5)))"
   ]
  },
  {
   "cell_type": "code",
   "execution_count": null,
   "metadata": {},
   "outputs": [],
   "source": [
    "import geotrellis.layer.ZoomedLayoutScheme\n",
    "import geotrellis.proj4.WebMercator\n",
    "\n",
    "val scheme = ZoomedLayoutScheme(WebMercator, tileSize = 256)"
   ]
  },
  {
   "cell_type": "code",
   "execution_count": null,
   "metadata": {},
   "outputs": [],
   "source": [
    "val zoom7 = scheme.levelForZoom(7).layout"
   ]
  },
  {
   "cell_type": "code",
   "execution_count": null,
   "metadata": {},
   "outputs": [],
   "source": [
    "val zoom8 = scheme.levelForZoom(8).layout"
   ]
  },
  {
   "cell_type": "code",
   "execution_count": null,
   "metadata": {},
   "outputs": [],
   "source": [
    "val ottawaWM = Extent(-8621691, 5604373, -8336168, 5805297)"
   ]
  },
  {
   "cell_type": "code",
   "execution_count": null,
   "metadata": {},
   "outputs": [],
   "source": [
    "val tileBounds = zoom7.mapTransform.extentToBounds(ottawaWM)"
   ]
  },
  {
   "cell_type": "code",
   "execution_count": null,
   "metadata": {},
   "outputs": [],
   "source": [
    "val tileExtent = zoom7.mapTransform.boundsToExtent(tileBounds)"
   ]
  },
  {
   "cell_type": "code",
   "execution_count": null,
   "metadata": {},
   "outputs": [],
   "source": [
    "// Note that this is snapping out extent to closest tile borders\n",
    "tileExtent.contains(ottawaWM)\n",
    "// res9: Boolean = true\n",
    "ottawaWM.contains(tileExtent)\n",
    "// res10: Boolean = false"
   ]
  }
 ],
 "metadata": {
  "kernelspec": {
   "display_name": "Scala 2.12",
   "language": "scala",
   "name": "scala212"
  },
  "language_info": {
   "codemirror_mode": "text/x-scala",
   "file_extension": ".sc",
   "mimetype": "text/x-scala",
   "name": "scala",
   "nbconvert_exporter": "script",
   "version": "2.12.12"
  }
 },
 "nbformat": 4,
 "nbformat_minor": 4
}
